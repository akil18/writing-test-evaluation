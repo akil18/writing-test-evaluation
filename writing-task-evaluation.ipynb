{
 "cells": [
  {
   "cell_type": "code",
   "execution_count": null,
   "id": "923a136f-db53-4d85-a86e-87446774683c",
   "metadata": {},
   "outputs": [],
   "source": [
    "import os\n",
    "from dotenv import load_dotenv\n",
    "\n",
    "# Load environment variables from .env file\n",
    "load_dotenv()\n",
    "\n",
    "# Get the GROQ API key from environment variables\n",
    "groq_api_key = os.getenv(\"WTE_GROQ_API_KEY\")\n",
    "model = os.getenv(\"MODEL\")\n",
    "# print(\"groq_api_key: \", new_groq_api_key)"
   ]
  },
  {
   "cell_type": "code",
   "execution_count": 13,
   "id": "305eece9",
   "metadata": {},
   "outputs": [
    {
     "name": "stdout",
     "output_type": "stream",
     "text": [
      "The second person to land on the moon was Edwin \"Buzz\" Aldrin. He stepped out of the lunar module Eagle and onto the moon's surface on July 20, 1969, just after Neil Armstrong, who was the first person to set foot on the moon.\n"
     ]
    }
   ],
   "source": [
    "# Use the API key in the ChatGroq model\n",
    "\n",
    "from langchain_groq import ChatGroq\n",
    "\n",
    "llm = ChatGroq(\n",
    "    temperature=0,\n",
    "    groq_api_key=groq_api_key,\n",
    "    model=model,\n",
    ")\n",
    "\n",
    "response = llm.invoke(\"The second person to land on the moon was...\")\n",
    "print(response.content)"
   ]
  },
  {
   "cell_type": "code",
   "execution_count": 14,
   "id": "c8a7ee68",
   "metadata": {},
   "outputs": [
    {
     "name": "stdout",
     "output_type": "stream",
     "text": [
      "```json\n",
      "{\n",
      "  \"score\": 8,\n",
      "  \"reasoning\": \"The writing sample effectively addresses the task by summarizing the main features of the pie charts and making comparisons where relevant. The response is well-organized, and the ideas are logically sequenced, demonstrating a good control of coherence and cohesion. The vocabulary used is wide-ranging and accurately applied, with only minor errors in word choice and spelling. The sentence structures are varied, and grammar and punctuation are well-managed, although there may be occasional non-systematic errors. The writer provides a clear and well-developed position, and the main ideas are relevant, extended, and supported. However, to achieve a Band 9, the response could benefit from more sophisticated and nuanced language, as well as more precise and detailed analysis of the data presented in the pie charts.\",\n",
      "  \"task_type\": \"Task 1\"\n",
      "}\n",
      "```\n"
     ]
    }
   ],
   "source": [
    "import json\n",
    "from langchain_core.prompts import PromptTemplate\n",
    "\n",
    "# Load evaluation criteria from band_assignments.json file\n",
    "with open('band_assignments.json', 'r') as file:\n",
    "    evaluation_criteria = json.load(file)\n",
    "\n",
    "# Prepare the evaluation criteria as a string for the prompt\n",
    "criteria_string = \"\"\n",
    "for band in evaluation_criteria['bands']:\n",
    "    criteria_string += f\"{band['band']}:\\n\"\n",
    "    for key, value in band['criteria'].items():\n",
    "        criteria_string += f\"  {key}: {value}\\n\"\n",
    "\n",
    "# print(\"criteria string: \", criteria_string)\n",
    "\n",
    "# Example usage of the prompt with a writing sample and question\n",
    "writing_sample = \"The pie charts show the amount of revenue and expenditures in 2016 for a children’s charity in the USA. Overall, it can be seen that donated food accounted for the majority of the income, while program services accounted for the most expenditure. Total revenue sources just exceeded outgoings. In detail, donated food provided most of the revenue for the charity, at 86%. Similarly, with regard to expenditures, one category, program services, accounted for nearly all of the outgoings, at 95.8%. The other categories were much smaller. Community contributions, which were the second largest revenue source, brought in 10.4% of overall income, and this was followed by program revenue, at 2.2%. Investment income, government grants, and other income were very small sources of revenue, accounting for only 0.8% combined. There were only two other expenditure items, fundraising and management and general, accounting for 2.6% and 1.6% respectively. The total amount of income was $53,561,580, which was just enough to cover the expenditures of $53,224,896.\"\n",
    "# writing_sample = \"Social networking sites, for instance Facebook, are thought by some to have had a detrimental effect on individual people as well as society and local communities. However, while I believe that such sites are mainly beneficial to the individual, I agree that they have had a damaging effect on local communities. With regards to individuals, the impact that online social media has had on each individual person has clear advantages. Firstly, people from different countries are brought together through such sites as Facebook whereas before the development of technology and social networking sites, people rarely had the chance to meet or communicate with anyone outside of their immediate circle or community. Secondly, Facebook also has social groups which offer individuals a chance to meet and participate in discussions with people who share common interests. On the other hand, the effect that Facebook and other social networking sites have had on societies and local communities can only be seen as negative. Rather than individual people taking part in their local community, they are instead choosing to take more interest in people online. Consequently, the people within local communities are no longer forming close or supportive relationships. Furthermore, society as a whole is becoming increasingly disjointed and fragmented as people spend more time online with people they have never met face to face and who they are unlikely to ever meet in the future. To conclude, although social networking sites have brought individuals closer together, they have not had the same effect on society or local communities. Local communities should do more to try and involve local people in local activities  in order to promote the future of community life.\"\n",
    "writing_question = \"The pie chart shows the amount of money that a children's charity located in the USA spent and received in one year, 2016. Summarise the information by selecting and reporting the main features and make comparisons where relevant. Write at least 150 words.\"\n",
    "# writing_question = \"Many people believe that social networking sites (such as Facebook) have had a huge negative impact on both individuals and society. To what extent do you agree?\"\n",
    "\n",
    "# Define the prompt template using the formatted criteria string\n",
    "evaluation_prompt = PromptTemplate.from_template(\n",
    "    f\"\"\"\n",
    "    ### WRITING SAMPLE:\n",
    "    {writing_sample}\n",
    "\n",
    "    ### QUESTION:\n",
    "    {writing_question}\n",
    "\n",
    "    ### IELTS WRITING TEST INFORMATION:\n",
    "    The IELTS Writing test evaluates your ability to express yourself in written English and is designed to assess your writing skills in an academic or general context, depending on whether you are taking the Academic or General Training version of the IELTS test. The {writing_sample} needs to address the {writing_question} and failing to do so will result in a decrease in score. If the {writing_sample} does not meet the requirements for word count, the score will be affected.\n",
    "\n",
    "    **Test Format**:\n",
    "    - The IELTS Writing test consists of two tasks:\n",
    "    - **Task 1**: \n",
    "        - Academic: Describe visual information, such as graphs, charts, or diagrams.\n",
    "        - General Training: Write a letter based on a given situation.\n",
    "    - **Task 2**: Write an essay in response to a question or statement.\n",
    "\n",
    "    **Word Count**:\n",
    "    - Task 1: At least 150 words.\n",
    "    - Task 2: At least 250 words.\n",
    "\n",
    "    **Skills Assessed**:\n",
    "    - Task 1: Present and describe visual information logically and coherently (Academic) or convey information in a clear and appropriate tone (General Training).\n",
    "    - Task 2: Provide well-structured arguments, opinions, and ideas in written form.\n",
    "\n",
    "    ### EVALUATION CRITERIA:\n",
    "    {criteria_string}\n",
    "\n",
    "    ### INSTRUCTION:\n",
    "    Evaluate the writing sample based on the provided criteria and score it on a scale from 1 to 9. Use the following steps:\n",
    "    1. **Task Type Context**: Determine whether the task is Task 1 or Task 2 based on the {writing_question} and evaluate accordingly.\n",
    "    2. **Task Response**: Assess how well the response addresses the question, its relevance, and development of ideas.\n",
    "    3. **Coherence and Cohesion**: Evaluate the logical flow, organization of ideas, and use of cohesive devices.\n",
    "    4. **Lexical Resource**: Examine the range, accuracy, and appropriateness of vocabulary used.\n",
    "    5. **Grammatical Range and Accuracy**: Analyze the sentence structures, grammar, and punctuation for range and accuracy.\n",
    "\n",
    "    ### Provide a JSON response(NO PREAMBLE):\n",
    "    - `score`: The overall band score (1-9).\n",
    "    - `reasoning`: A detailed explanation for the score, referencing specific points from the writing sample and evaluation criteria.\n",
    "    - `task_type`: What task type it was\n",
    "    \"\"\"\n",
    ")\n",
    "\n",
    "\n",
    "# response = llm.invoke({\"writing_sample\": writing_sample, \"writing_question\": writing_question})\n",
    "# print(response.content)\n",
    "chain_evaluation = evaluation_prompt | llm\n",
    "res = chain_evaluation.invoke({\"writing_sample\": writing_sample, \"writing_question\": writing_question})\n",
    "print(res.content)"
   ]
  }
 ],
 "metadata": {
  "kernelspec": {
   "display_name": "myenv",
   "language": "python",
   "name": "python3"
  },
  "language_info": {
   "codemirror_mode": {
    "name": "ipython",
    "version": 3
   },
   "file_extension": ".py",
   "mimetype": "text/x-python",
   "name": "python",
   "nbconvert_exporter": "python",
   "pygments_lexer": "ipython3",
   "version": "3.12.3"
  }
 },
 "nbformat": 4,
 "nbformat_minor": 5
}
